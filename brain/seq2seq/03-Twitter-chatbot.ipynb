{
  "nbformat": 4,
  "nbformat_minor": 0,
  "metadata": {
    "kernelspec": {
      "display_name": "Python 3",
      "language": "python",
      "name": "python3"
    },
    "language_info": {
      "codemirror_mode": {
        "name": "ipython",
        "version": 3
      },
      "file_extension": ".py",
      "mimetype": "text/x-python",
      "name": "python",
      "nbconvert_exporter": "python",
      "pygments_lexer": "ipython3",
      "version": "3.5.2"
    },
    "colab": {
      "name": "Copy of 03-Twitter-chatbot.ipynb",
      "provenance": [],
      "collapsed_sections": []
    }
  },
  "cells": [
    {
      "cell_type": "markdown",
      "metadata": {
        "id": "HOAbHgNnf1Zq"
      },
      "source": [
        "# Demonstrate Seq2Seq Wrapper with twitter chat log"
      ]
    },
    {
      "cell_type": "code",
      "metadata": {
        "id": "VU7bNjz0gAqI"
      },
      "source": [
        "%tensorflow_version 1.x"
      ],
      "execution_count": 7,
      "outputs": []
    },
    {
      "cell_type": "code",
      "metadata": {
        "collapsed": true,
        "id": "RWCAyKnjf1Zs",
        "colab": {
          "base_uri": "https://localhost:8080/",
          "height": 374
        },
        "outputId": "b7168b13-c563-42b7-90c1-5fa40cba6401"
      },
      "source": [
        "import tensorflow as tf\n",
        "print(tf.__version__)\n",
        "import numpy as np\n",
        "\n",
        "# preprocessed data\n",
        "from datasets.twitter import data\n",
        "import data_utils"
      ],
      "execution_count": 8,
      "outputs": [
        {
          "output_type": "stream",
          "text": [
            "1.15.2\n"
          ],
          "name": "stdout"
        },
        {
          "output_type": "error",
          "ename": "ModuleNotFoundError",
          "evalue": "ignored",
          "traceback": [
            "\u001b[0;31m---------------------------------------------------------------------------\u001b[0m",
            "\u001b[0;31mModuleNotFoundError\u001b[0m                       Traceback (most recent call last)",
            "\u001b[0;32m<ipython-input-8-fcb682db6e77>\u001b[0m in \u001b[0;36m<module>\u001b[0;34m()\u001b[0m\n\u001b[1;32m      4\u001b[0m \u001b[0;34m\u001b[0m\u001b[0m\n\u001b[1;32m      5\u001b[0m \u001b[0;31m# preprocessed data\u001b[0m\u001b[0;34m\u001b[0m\u001b[0;34m\u001b[0m\u001b[0;34m\u001b[0m\u001b[0m\n\u001b[0;32m----> 6\u001b[0;31m \u001b[0;32mfrom\u001b[0m \u001b[0mdatasets\u001b[0m\u001b[0;34m.\u001b[0m\u001b[0mtwitter\u001b[0m \u001b[0;32mimport\u001b[0m \u001b[0mdata\u001b[0m\u001b[0;34m\u001b[0m\u001b[0;34m\u001b[0m\u001b[0m\n\u001b[0m\u001b[1;32m      7\u001b[0m \u001b[0;32mimport\u001b[0m \u001b[0mdata_utils\u001b[0m\u001b[0;34m\u001b[0m\u001b[0;34m\u001b[0m\u001b[0m\n",
            "\u001b[0;31mModuleNotFoundError\u001b[0m: No module named 'datasets'",
            "",
            "\u001b[0;31m---------------------------------------------------------------------------\u001b[0;32m\nNOTE: If your import is failing due to a missing package, you can\nmanually install dependencies using either !pip or !apt.\n\nTo view examples of installing some common dependencies, click the\n\"Open Examples\" button below.\n\u001b[0;31m---------------------------------------------------------------------------\u001b[0m\n"
          ]
        }
      ]
    },
    {
      "cell_type": "code",
      "metadata": {
        "id": "foqcPOtef1Zt"
      },
      "source": [
        "# load data from pickle and npy files\n",
        "metadata, idx_q, idx_a = data.load_data(PATH='datasets/twitter/')\n",
        "(trainX, trainY), (testX, testY), (validX, validY) = data_utils.split_dataset(idx_q, idx_a)"
      ],
      "execution_count": null,
      "outputs": []
    },
    {
      "cell_type": "code",
      "metadata": {
        "id": "01-_VhMAf1Zt"
      },
      "source": [
        "# parameters \n",
        "xseq_len = trainX.shape[-1]\n",
        "yseq_len = trainY.shape[-1]\n",
        "batch_size = 16\n",
        "xvocab_size = len(metadata['idx2w'])  \n",
        "yvocab_size = xvocab_size\n",
        "emb_dim = 1024"
      ],
      "execution_count": null,
      "outputs": []
    },
    {
      "cell_type": "code",
      "metadata": {
        "collapsed": true,
        "id": "tAJ9ewuMf1Zt"
      },
      "source": [
        "import seq2seq_wrapper"
      ],
      "execution_count": null,
      "outputs": []
    },
    {
      "cell_type": "code",
      "metadata": {
        "id": "4jcgQOx_f1Zu"
      },
      "source": [
        "import importlib\n",
        "importlib.reload(seq2seq_wrapper)"
      ],
      "execution_count": null,
      "outputs": []
    },
    {
      "cell_type": "code",
      "metadata": {
        "id": "xGzpr6RAf1Zv"
      },
      "source": [
        "model = seq2seq_wrapper.Seq2Seq(xseq_len=xseq_len,\n",
        "                               yseq_len=yseq_len,\n",
        "                               xvocab_size=xvocab_size,\n",
        "                               yvocab_size=yvocab_size,\n",
        "                               ckpt_path='ckpt/twitter/',\n",
        "                               emb_dim=emb_dim,\n",
        "                               num_layers=3\n",
        "                               )"
      ],
      "execution_count": null,
      "outputs": []
    },
    {
      "cell_type": "code",
      "metadata": {
        "collapsed": true,
        "id": "8NjAyUUGf1Zv"
      },
      "source": [
        "val_batch_gen = data_utils.rand_batch_gen(validX, validY, 256)\n",
        "test_batch_gen = data_utils.rand_batch_gen(testX, testY, 256)\n",
        "train_batch_gen = data_utils.rand_batch_gen(trainX, trainY, batch_size)"
      ],
      "execution_count": null,
      "outputs": []
    },
    {
      "cell_type": "code",
      "metadata": {
        "id": "SdDiWCdEf1Zv"
      },
      "source": [
        "sess = model.train(train_batch_gen, val_batch_gen)"
      ],
      "execution_count": null,
      "outputs": []
    },
    {
      "cell_type": "code",
      "metadata": {
        "collapsed": true,
        "id": "Re10HDsff1Zw"
      },
      "source": [
        "sess = model.restore_last_session()"
      ],
      "execution_count": null,
      "outputs": []
    },
    {
      "cell_type": "code",
      "metadata": {
        "id": "9tmSNiSPf1Zx"
      },
      "source": [
        "input_ = test_batch_gen.__next__()[0]\n",
        "output = model.predict(sess, input_)\n",
        "print(output.shape)"
      ],
      "execution_count": null,
      "outputs": []
    },
    {
      "cell_type": "code",
      "metadata": {
        "id": "u4tmxHOpf1Zy"
      },
      "source": [
        "replies = []\n",
        "for ii, oi in zip(input_.T, output):\n",
        "    q = data_utils.decode(sequence=ii, lookup=metadata['idx2w'], separator=' ')\n",
        "    decoded = data_utils.decode(sequence=oi, lookup=metadata['idx2w'], separator=' ').split(' ')\n",
        "    if decoded.count('unk') == 0:\n",
        "        if decoded not in replies:\n",
        "            print('q : [{0}]; a : [{1}]'.format(q, ' '.join(decoded)))\n",
        "            replies.append(decoded)"
      ],
      "execution_count": null,
      "outputs": []
    },
    {
      "cell_type": "code",
      "metadata": {
        "collapsed": true,
        "id": "zpsRmkeEf1Zy"
      },
      "source": [
        ""
      ],
      "execution_count": null,
      "outputs": []
    },
    {
      "cell_type": "code",
      "metadata": {
        "collapsed": true,
        "id": "BWDTSyjAf1Zy"
      },
      "source": [
        ""
      ],
      "execution_count": null,
      "outputs": []
    },
    {
      "cell_type": "code",
      "metadata": {
        "collapsed": true,
        "id": "bMxTv4tjf1Zz"
      },
      "source": [
        ""
      ],
      "execution_count": null,
      "outputs": []
    },
    {
      "cell_type": "code",
      "metadata": {
        "collapsed": true,
        "id": "xn0vMyQZf1Zz"
      },
      "source": [
        ""
      ],
      "execution_count": null,
      "outputs": []
    },
    {
      "cell_type": "code",
      "metadata": {
        "collapsed": true,
        "id": "36JR_BUcf1Zz"
      },
      "source": [
        ""
      ],
      "execution_count": null,
      "outputs": []
    },
    {
      "cell_type": "code",
      "metadata": {
        "collapsed": true,
        "id": "egAm-FI4f1Zz"
      },
      "source": [
        ""
      ],
      "execution_count": null,
      "outputs": []
    }
  ]
}