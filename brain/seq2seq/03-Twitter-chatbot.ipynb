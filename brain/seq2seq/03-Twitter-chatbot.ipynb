{
  "nbformat": 4,
  "nbformat_minor": 0,
  "metadata": {
    "kernelspec": {
      "display_name": "Python 3",
      "language": "python",
      "name": "python3"
    },
    "language_info": {
      "codemirror_mode": {
        "name": "ipython",
        "version": 3
      },
      "file_extension": ".py",
      "mimetype": "text/x-python",
      "name": "python",
      "nbconvert_exporter": "python",
      "pygments_lexer": "ipython3",
      "version": "3.5.2"
    },
    "colab": {
      "name": "Copy of 03-Twitter-chatbot.ipynb",
      "provenance": [],
      "collapsed_sections": []
    }
  },
  "cells": [
    {
      "cell_type": "markdown",
      "metadata": {
        "id": "HOAbHgNnf1Zq"
      },
      "source": [
        "# Demonstrate Seq2Seq Wrapper with twitter chat log"
      ]
    },
    {
      "cell_type": "code",
      "metadata": {
        "id": "VU7bNjz0gAqI",
        "colab": {
          "base_uri": "https://localhost:8080/"
        },
        "outputId": "a34ee1c9-3def-4e17-ce1c-03ad7630c83a"
      },
      "source": [
        "#%tensorflow_version 1.x\n",
        "!pip install tensorflow-addons\n",
        "#!pip install tensorflow==2.0.0-beta1"
      ],
      "execution_count": 8,
      "outputs": [
        {
          "output_type": "stream",
          "text": [
            "Collecting tensorflow-addons\n",
            "\u001b[?25l  Downloading https://files.pythonhosted.org/packages/66/4b/e893d194e626c24b3df2253066aa418f46a432fdb68250cde14bf9bb0700/tensorflow_addons-0.13.0-cp37-cp37m-manylinux2010_x86_64.whl (679kB)\n",
            "\r\u001b[K     |▌                               | 10kB 19.5MB/s eta 0:00:01\r\u001b[K     |█                               | 20kB 28.0MB/s eta 0:00:01\r\u001b[K     |█▌                              | 30kB 17.5MB/s eta 0:00:01\r\u001b[K     |██                              | 40kB 18.9MB/s eta 0:00:01\r\u001b[K     |██▍                             | 51kB 14.8MB/s eta 0:00:01\r\u001b[K     |███                             | 61kB 9.9MB/s eta 0:00:01\r\u001b[K     |███▍                            | 71kB 10.7MB/s eta 0:00:01\r\u001b[K     |███▉                            | 81kB 11.9MB/s eta 0:00:01\r\u001b[K     |████▍                           | 92kB 11.7MB/s eta 0:00:01\r\u001b[K     |████▉                           | 102kB 12.5MB/s eta 0:00:01\r\u001b[K     |█████▎                          | 112kB 12.5MB/s eta 0:00:01\r\u001b[K     |█████▉                          | 122kB 12.5MB/s eta 0:00:01\r\u001b[K     |██████▎                         | 133kB 12.5MB/s eta 0:00:01\r\u001b[K     |██████▊                         | 143kB 12.5MB/s eta 0:00:01\r\u001b[K     |███████▎                        | 153kB 12.5MB/s eta 0:00:01\r\u001b[K     |███████▊                        | 163kB 12.5MB/s eta 0:00:01\r\u001b[K     |████████▏                       | 174kB 12.5MB/s eta 0:00:01\r\u001b[K     |████████▊                       | 184kB 12.5MB/s eta 0:00:01\r\u001b[K     |█████████▏                      | 194kB 12.5MB/s eta 0:00:01\r\u001b[K     |█████████▋                      | 204kB 12.5MB/s eta 0:00:01\r\u001b[K     |██████████▏                     | 215kB 12.5MB/s eta 0:00:01\r\u001b[K     |██████████▋                     | 225kB 12.5MB/s eta 0:00:01\r\u001b[K     |███████████                     | 235kB 12.5MB/s eta 0:00:01\r\u001b[K     |███████████▋                    | 245kB 12.5MB/s eta 0:00:01\r\u001b[K     |████████████                    | 256kB 12.5MB/s eta 0:00:01\r\u001b[K     |████████████▌                   | 266kB 12.5MB/s eta 0:00:01\r\u001b[K     |█████████████                   | 276kB 12.5MB/s eta 0:00:01\r\u001b[K     |█████████████▌                  | 286kB 12.5MB/s eta 0:00:01\r\u001b[K     |██████████████                  | 296kB 12.5MB/s eta 0:00:01\r\u001b[K     |██████████████▌                 | 307kB 12.5MB/s eta 0:00:01\r\u001b[K     |███████████████                 | 317kB 12.5MB/s eta 0:00:01\r\u001b[K     |███████████████▍                | 327kB 12.5MB/s eta 0:00:01\r\u001b[K     |████████████████                | 337kB 12.5MB/s eta 0:00:01\r\u001b[K     |████████████████▍               | 348kB 12.5MB/s eta 0:00:01\r\u001b[K     |████████████████▉               | 358kB 12.5MB/s eta 0:00:01\r\u001b[K     |█████████████████▍              | 368kB 12.5MB/s eta 0:00:01\r\u001b[K     |█████████████████▉              | 378kB 12.5MB/s eta 0:00:01\r\u001b[K     |██████████████████▎             | 389kB 12.5MB/s eta 0:00:01\r\u001b[K     |██████████████████▉             | 399kB 12.5MB/s eta 0:00:01\r\u001b[K     |███████████████████▎            | 409kB 12.5MB/s eta 0:00:01\r\u001b[K     |███████████████████▊            | 419kB 12.5MB/s eta 0:00:01\r\u001b[K     |████████████████████▎           | 430kB 12.5MB/s eta 0:00:01\r\u001b[K     |████████████████████▊           | 440kB 12.5MB/s eta 0:00:01\r\u001b[K     |█████████████████████▏          | 450kB 12.5MB/s eta 0:00:01\r\u001b[K     |█████████████████████▊          | 460kB 12.5MB/s eta 0:00:01\r\u001b[K     |██████████████████████▏         | 471kB 12.5MB/s eta 0:00:01\r\u001b[K     |██████████████████████▋         | 481kB 12.5MB/s eta 0:00:01\r\u001b[K     |███████████████████████▏        | 491kB 12.5MB/s eta 0:00:01\r\u001b[K     |███████████████████████▋        | 501kB 12.5MB/s eta 0:00:01\r\u001b[K     |████████████████████████        | 512kB 12.5MB/s eta 0:00:01\r\u001b[K     |████████████████████████▋       | 522kB 12.5MB/s eta 0:00:01\r\u001b[K     |█████████████████████████       | 532kB 12.5MB/s eta 0:00:01\r\u001b[K     |█████████████████████████▌      | 542kB 12.5MB/s eta 0:00:01\r\u001b[K     |██████████████████████████      | 552kB 12.5MB/s eta 0:00:01\r\u001b[K     |██████████████████████████▌     | 563kB 12.5MB/s eta 0:00:01\r\u001b[K     |███████████████████████████     | 573kB 12.5MB/s eta 0:00:01\r\u001b[K     |███████████████████████████▌    | 583kB 12.5MB/s eta 0:00:01\r\u001b[K     |████████████████████████████    | 593kB 12.5MB/s eta 0:00:01\r\u001b[K     |████████████████████████████▍   | 604kB 12.5MB/s eta 0:00:01\r\u001b[K     |█████████████████████████████   | 614kB 12.5MB/s eta 0:00:01\r\u001b[K     |█████████████████████████████▍  | 624kB 12.5MB/s eta 0:00:01\r\u001b[K     |█████████████████████████████▉  | 634kB 12.5MB/s eta 0:00:01\r\u001b[K     |██████████████████████████████▍ | 645kB 12.5MB/s eta 0:00:01\r\u001b[K     |██████████████████████████████▉ | 655kB 12.5MB/s eta 0:00:01\r\u001b[K     |███████████████████████████████▎| 665kB 12.5MB/s eta 0:00:01\r\u001b[K     |███████████████████████████████▉| 675kB 12.5MB/s eta 0:00:01\r\u001b[K     |████████████████████████████████| 686kB 12.5MB/s \n",
            "\u001b[?25hRequirement already satisfied: typeguard>=2.7 in /usr/local/lib/python3.7/dist-packages (from tensorflow-addons) (2.7.1)\n",
            "Installing collected packages: tensorflow-addons\n",
            "Successfully installed tensorflow-addons-0.13.0\n"
          ],
          "name": "stdout"
        }
      ]
    },
    {
      "cell_type": "code",
      "metadata": {
        "id": "RWCAyKnjf1Zs",
        "colab": {
          "base_uri": "https://localhost:8080/"
        },
        "outputId": "19e07d9f-4a7c-4215-afc3-c47cc6863457"
      },
      "source": [
        "import tensorflow as tf\n",
        "import numpy as np\n",
        "from google.colab import drive\n",
        "print(tf.__version__)\n",
        "drive.mount('/content/drive')\n",
        "#with open('/content/drive/My Drive/foo.txt', 'w') as f:\n",
        "#  f.write('Hello Google Drive!')\n",
        "#drive.flush_and_unmount()\n",
        "print('Check the todo.txt file context is right.....')\n",
        "!cat /content/drive/My\\ Drive/ML/practical_seq2seq/todo.txt\n",
        "import sys\n",
        "sys.path.append('/content/drive/My Drive/ML/practical_seq2seq')\n",
        "#sys.path.insert(0, '/content/drive/My Drive/ML/practical_seq2seq')\n",
        "\n",
        "# preprocessed data\n",
        "from datasets.twitter import data\n",
        "import data_utils"
      ],
      "execution_count": 9,
      "outputs": [
        {
          "output_type": "stream",
          "text": [
            "2.5.0\n",
            "Drive already mounted at /content/drive; to attempt to forcibly remount, call drive.mount(\"/content/drive\", force_remount=True).\n",
            "Check the todo.txt file context is right.....\n",
            "1.seems we can just comments out the train function becasue we already have a model file\n",
            "2.we can try to just run it can see the result ok or not@20210407\n"
          ],
          "name": "stdout"
        }
      ]
    },
    {
      "cell_type": "code",
      "metadata": {
        "id": "foqcPOtef1Zt"
      },
      "source": [
        "# load data from pickle and npy files\n",
        "metadata, idx_q, idx_a = data.load_data(PATH='/content/drive/My Drive/ML/practical_seq2seq/datasets/twitter/')\n",
        "(trainX, trainY), (testX, testY), (validX, validY) = data_utils.split_dataset(idx_q, idx_a)"
      ],
      "execution_count": 10,
      "outputs": []
    },
    {
      "cell_type": "code",
      "metadata": {
        "id": "01-_VhMAf1Zt"
      },
      "source": [
        "# parameters \n",
        "xseq_len = trainX.shape[-1]\n",
        "yseq_len = trainY.shape[-1]\n",
        "batch_size = 16\n",
        "xvocab_size = len(metadata['idx2w'])  \n",
        "yvocab_size = xvocab_size\n",
        "emb_dim = 1024"
      ],
      "execution_count": 11,
      "outputs": []
    },
    {
      "cell_type": "code",
      "metadata": {
        "collapsed": true,
        "id": "tAJ9ewuMf1Zt"
      },
      "source": [
        "import seq2seq_wrapper"
      ],
      "execution_count": 12,
      "outputs": []
    },
    {
      "cell_type": "code",
      "metadata": {
        "id": "4jcgQOx_f1Zu",
        "colab": {
          "base_uri": "https://localhost:8080/"
        },
        "outputId": "304ff3db-0a35-404b-b23a-e59d66c574d4"
      },
      "source": [
        "import importlib\n",
        "importlib.reload(seq2seq_wrapper)"
      ],
      "execution_count": 13,
      "outputs": [
        {
          "output_type": "execute_result",
          "data": {
            "text/plain": [
              "<module 'seq2seq_wrapper' from '/content/drive/My Drive/ML/practical_seq2seq/seq2seq_wrapper.py'>"
            ]
          },
          "metadata": {
            "tags": []
          },
          "execution_count": 13
        }
      ]
    },
    {
      "cell_type": "code",
      "metadata": {
        "id": "xGzpr6RAf1Zv",
        "colab": {
          "base_uri": "https://localhost:8080/",
          "height": 505
        },
        "outputId": "ef75a11d-3393-422e-ef6e-0e8036c9a486"
      },
      "source": [
        "model = seq2seq_wrapper.Seq2Seq(xseq_len=xseq_len,\n",
        "                               yseq_len=yseq_len,\n",
        "                               xvocab_size=xvocab_size,\n",
        "                               yvocab_size=yvocab_size,\n",
        "                               ckpt_path='ckpt/twitter/',\n",
        "                               emb_dim=emb_dim,\n",
        "                               num_layers=3\n",
        "                               )"
      ],
      "execution_count": 14,
      "outputs": [
        {
          "output_type": "stream",
          "text": [
            "<log> Building Graph WARNING:tensorflow:`tf.nn.rnn_cell.MultiRNNCell` is deprecated. This class is equivalent as `tf.keras.layers.StackedRNNCells`, and will be replaced by that in Tensorflow 2.0.\n",
            "WARNING:tensorflow:At least two cells provided to MultiRNNCell are the same object and will share weights.\n"
          ],
          "name": "stdout"
        },
        {
          "output_type": "stream",
          "text": [
            "/usr/local/lib/python3.7/dist-packages/tensorflow/python/keras/layers/legacy_rnn/rnn_cell_impl.py:708: UserWarning: `tf.nn.rnn_cell.BasicLSTMCell` is deprecated and will be removed in a future version. This class is equivalent as `tf.keras.layers.LSTMCell`, and will be replaced by that in Tensorflow 2.0.\n",
            "  warnings.warn(\"`tf.nn.rnn_cell.BasicLSTMCell` is deprecated and will be \"\n"
          ],
          "name": "stderr"
        },
        {
          "output_type": "error",
          "ename": "AttributeError",
          "evalue": "ignored",
          "traceback": [
            "\u001b[0;31m---------------------------------------------------------------------------\u001b[0m",
            "\u001b[0;31mAttributeError\u001b[0m                            Traceback (most recent call last)",
            "\u001b[0;32m<ipython-input-14-e898458cb916>\u001b[0m in \u001b[0;36m<module>\u001b[0;34m()\u001b[0m\n\u001b[1;32m      5\u001b[0m                                \u001b[0mckpt_path\u001b[0m\u001b[0;34m=\u001b[0m\u001b[0;34m'ckpt/twitter/'\u001b[0m\u001b[0;34m,\u001b[0m\u001b[0;34m\u001b[0m\u001b[0;34m\u001b[0m\u001b[0m\n\u001b[1;32m      6\u001b[0m                                \u001b[0memb_dim\u001b[0m\u001b[0;34m=\u001b[0m\u001b[0memb_dim\u001b[0m\u001b[0;34m,\u001b[0m\u001b[0;34m\u001b[0m\u001b[0;34m\u001b[0m\u001b[0m\n\u001b[0;32m----> 7\u001b[0;31m                                \u001b[0mnum_layers\u001b[0m\u001b[0;34m=\u001b[0m\u001b[0;36m3\u001b[0m\u001b[0;34m\u001b[0m\u001b[0;34m\u001b[0m\u001b[0m\n\u001b[0m\u001b[1;32m      8\u001b[0m                                )\n",
            "\u001b[0;32m/content/drive/My Drive/ML/practical_seq2seq/seq2seq_wrapper.py\u001b[0m in \u001b[0;36m__init__\u001b[0;34m(self, xseq_len, yseq_len, xvocab_size, yvocab_size, emb_dim, num_layers, ckpt_path, lr, epochs, model_name)\u001b[0m\n\u001b[1;32m     83\u001b[0m         \u001b[0msys\u001b[0m\u001b[0;34m.\u001b[0m\u001b[0mstdout\u001b[0m\u001b[0;34m.\u001b[0m\u001b[0mwrite\u001b[0m\u001b[0;34m(\u001b[0m\u001b[0;34m'<log> Building Graph '\u001b[0m\u001b[0;34m)\u001b[0m\u001b[0;34m\u001b[0m\u001b[0;34m\u001b[0m\u001b[0m\n\u001b[1;32m     84\u001b[0m         \u001b[0;31m# build comput graph\u001b[0m\u001b[0;34m\u001b[0m\u001b[0;34m\u001b[0m\u001b[0;34m\u001b[0m\u001b[0m\n\u001b[0;32m---> 85\u001b[0;31m         \u001b[0m__graph__\u001b[0m\u001b[0;34m(\u001b[0m\u001b[0;34m)\u001b[0m\u001b[0;34m\u001b[0m\u001b[0;34m\u001b[0m\u001b[0m\n\u001b[0m\u001b[1;32m     86\u001b[0m         \u001b[0msys\u001b[0m\u001b[0;34m.\u001b[0m\u001b[0mstdout\u001b[0m\u001b[0;34m.\u001b[0m\u001b[0mwrite\u001b[0m\u001b[0;34m(\u001b[0m\u001b[0;34m'</log>'\u001b[0m\u001b[0;34m)\u001b[0m\u001b[0;34m\u001b[0m\u001b[0;34m\u001b[0m\u001b[0m\n\u001b[1;32m     87\u001b[0m \u001b[0;34m\u001b[0m\u001b[0m\n",
            "\u001b[0;32m/content/drive/My Drive/ML/practical_seq2seq/seq2seq_wrapper.py\u001b[0m in \u001b[0;36m__graph__\u001b[0;34m()\u001b[0m\n\u001b[1;32m     60\u001b[0m                 \u001b[0;31m#  inputs : encoder, decoder inputs, LSTM cell type, vocabulary sizes, embedding dimensions\u001b[0m\u001b[0;34m\u001b[0m\u001b[0;34m\u001b[0m\u001b[0;34m\u001b[0m\u001b[0m\n\u001b[1;32m     61\u001b[0m                 \u001b[0;31m#can't find the embeding_rnn_seq2seq in tensorflow2.5  -- Ryan\u001b[0m\u001b[0;34m\u001b[0m\u001b[0;34m\u001b[0m\u001b[0;34m\u001b[0m\u001b[0m\n\u001b[0;32m---> 62\u001b[0;31m                 self.decode_outputs, self.decode_states = tf.contrib.legacy_seq2seq.embedding_rnn_seq2seq(self.enc_ip,self.dec_ip, stacked_lstm,\n\u001b[0m\u001b[1;32m     63\u001b[0m                                                     xvocab_size, yvocab_size, emb_dim)\n\u001b[1;32m     64\u001b[0m                 \u001b[0;31m# share parameters\u001b[0m\u001b[0;34m\u001b[0m\u001b[0;34m\u001b[0m\u001b[0;34m\u001b[0m\u001b[0m\n",
            "\u001b[0;31mAttributeError\u001b[0m: module 'tensorflow.compat.v1' has no attribute 'contrib'"
          ]
        }
      ]
    },
    {
      "cell_type": "code",
      "metadata": {
        "collapsed": true,
        "id": "8NjAyUUGf1Zv"
      },
      "source": [
        "val_batch_gen = data_utils.rand_batch_gen(validX, validY, 256)\n",
        "test_batch_gen = data_utils.rand_batch_gen(testX, testY, 256)\n",
        "train_batch_gen = data_utils.rand_batch_gen(trainX, trainY, batch_size)"
      ],
      "execution_count": null,
      "outputs": []
    },
    {
      "cell_type": "code",
      "metadata": {
        "id": "SdDiWCdEf1Zv"
      },
      "source": [
        "sess = model.train(train_batch_gen, val_batch_gen)"
      ],
      "execution_count": null,
      "outputs": []
    },
    {
      "cell_type": "code",
      "metadata": {
        "collapsed": true,
        "id": "Re10HDsff1Zw"
      },
      "source": [
        "sess = model.restore_last_session()"
      ],
      "execution_count": null,
      "outputs": []
    },
    {
      "cell_type": "code",
      "metadata": {
        "id": "9tmSNiSPf1Zx"
      },
      "source": [
        "input_ = test_batch_gen.__next__()[0]\n",
        "output = model.predict(sess, input_)\n",
        "print(output.shape)"
      ],
      "execution_count": null,
      "outputs": []
    },
    {
      "cell_type": "code",
      "metadata": {
        "id": "u4tmxHOpf1Zy"
      },
      "source": [
        "replies = []\n",
        "for ii, oi in zip(input_.T, output):\n",
        "    q = data_utils.decode(sequence=ii, lookup=metadata['idx2w'], separator=' ')\n",
        "    decoded = data_utils.decode(sequence=oi, lookup=metadata['idx2w'], separator=' ').split(' ')\n",
        "    if decoded.count('unk') == 0:\n",
        "        if decoded not in replies:\n",
        "            print('q : [{0}]; a : [{1}]'.format(q, ' '.join(decoded)))\n",
        "            replies.append(decoded)"
      ],
      "execution_count": null,
      "outputs": []
    },
    {
      "cell_type": "code",
      "metadata": {
        "collapsed": true,
        "id": "zpsRmkeEf1Zy"
      },
      "source": [
        ""
      ],
      "execution_count": null,
      "outputs": []
    },
    {
      "cell_type": "code",
      "metadata": {
        "collapsed": true,
        "id": "BWDTSyjAf1Zy"
      },
      "source": [
        ""
      ],
      "execution_count": null,
      "outputs": []
    },
    {
      "cell_type": "code",
      "metadata": {
        "collapsed": true,
        "id": "bMxTv4tjf1Zz"
      },
      "source": [
        ""
      ],
      "execution_count": null,
      "outputs": []
    },
    {
      "cell_type": "code",
      "metadata": {
        "collapsed": true,
        "id": "xn0vMyQZf1Zz"
      },
      "source": [
        ""
      ],
      "execution_count": null,
      "outputs": []
    },
    {
      "cell_type": "code",
      "metadata": {
        "collapsed": true,
        "id": "36JR_BUcf1Zz"
      },
      "source": [
        ""
      ],
      "execution_count": null,
      "outputs": []
    },
    {
      "cell_type": "code",
      "metadata": {
        "collapsed": true,
        "id": "egAm-FI4f1Zz"
      },
      "source": [
        ""
      ],
      "execution_count": null,
      "outputs": []
    }
  ]
}